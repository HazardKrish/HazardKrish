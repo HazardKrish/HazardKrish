{
  "nbformat": 4,
  "nbformat_minor": 0,
  "metadata": {
    "colab": {
      "provenance": [],
      "authorship_tag": "ABX9TyMnKDdDWhtY9l6hQqk1wSsc",
      "include_colab_link": true
    },
    "kernelspec": {
      "name": "python3",
      "display_name": "Python 3"
    },
    "language_info": {
      "name": "python"
    }
  },
  "cells": [
    {
      "cell_type": "markdown",
      "metadata": {
        "id": "view-in-github",
        "colab_type": "text"
      },
      "source": [
        "<a href=\"https://colab.research.google.com/github/HazardKrish/HazardKrish/blob/main/Experiment_2(a).ipynb\" target=\"_parent\"><img src=\"https://colab.research.google.com/assets/colab-badge.svg\" alt=\"Open In Colab\"/></a>"
      ]
    },
    {
      "cell_type": "code",
      "execution_count": null,
      "metadata": {
        "id": "xYCFT_59pwuI"
      },
      "outputs": [],
      "source": [
        "#experiment 2.a\n",
        "import numpy as np\n"
      ]
    },
    {
      "cell_type": "code",
      "source": [
        "#Defining n dimensional zero array\n",
        "#np.zeroes=> give a np array filled with zeros\n",
        "c=np.zeros([4,3,2])\n",
        "print(c)\n",
        "print(c.ndim)"
      ],
      "metadata": {
        "colab": {
          "base_uri": "https://localhost:8080/"
        },
        "id": "T-Xh_wzyrJtn",
        "outputId": "a60e0ec2-1b02-4259-db99-9a59f841fcd3"
      },
      "execution_count": null,
      "outputs": [
        {
          "output_type": "stream",
          "name": "stdout",
          "text": [
            "[[[0. 0.]\n",
            "  [0. 0.]\n",
            "  [0. 0.]]\n",
            "\n",
            " [[0. 0.]\n",
            "  [0. 0.]\n",
            "  [0. 0.]]\n",
            "\n",
            " [[0. 0.]\n",
            "  [0. 0.]\n",
            "  [0. 0.]]\n",
            "\n",
            " [[0. 0.]\n",
            "  [0. 0.]\n",
            "  [0. 0.]]]\n",
            "3\n"
          ]
        }
      ]
    },
    {
      "cell_type": "code",
      "source": [
        "#Defining one dimensionally equally spaced non zero array\n",
        "c=np.linspace(4,30,10)\n",
        "print(c)\n"
      ],
      "metadata": {
        "colab": {
          "base_uri": "https://localhost:8080/"
        },
        "id": "yQGyBOJ0uOXj",
        "outputId": "0c52c57f-5b7f-433b-91d6-a2521c56bfc6"
      },
      "execution_count": null,
      "outputs": [
        {
          "output_type": "stream",
          "name": "stdout",
          "text": [
            "[ 4.          4.53061224  5.06122449  5.59183673  6.12244898  6.65306122\n",
            "  7.18367347  7.71428571  8.24489796  8.7755102   9.30612245  9.83673469\n",
            " 10.36734694 10.89795918 11.42857143 11.95918367 12.48979592 13.02040816\n",
            " 13.55102041 14.08163265 14.6122449  15.14285714 15.67346939 16.20408163\n",
            " 16.73469388 17.26530612 17.79591837 18.32653061 18.85714286 19.3877551\n",
            " 19.91836735 20.44897959 20.97959184 21.51020408 22.04081633 22.57142857\n",
            " 23.10204082 23.63265306 24.16326531 24.69387755 25.2244898  25.75510204\n",
            " 26.28571429 26.81632653 27.34693878 27.87755102 28.40816327 28.93877551\n",
            " 29.46938776 30.        ]\n"
          ]
        }
      ]
    },
    {
      "cell_type": "code",
      "source": [
        "#Difference between list and array\n",
        "c=list(range(16))\n",
        "print(c)\n",
        "d=np.array(c)\n",
        "print(d)"
      ],
      "metadata": {
        "colab": {
          "base_uri": "https://localhost:8080/"
        },
        "id": "TPSDrLAbrfQV",
        "outputId": "d88e1ae8-b868-4bf0-d734-c3e2352a6680"
      },
      "execution_count": null,
      "outputs": [
        {
          "output_type": "stream",
          "name": "stdout",
          "text": [
            "[0, 1, 2, 3, 4, 5, 6, 7, 8, 9, 10, 11, 12, 13, 14, 15]\n",
            "[ 0  1  2  3  4  5  6  7  8  9 10 11 12 13 14 15]\n"
          ]
        }
      ]
    },
    {
      "cell_type": "code",
      "source": [
        "e=np.array(list(range(16)))\n",
        "print(e)"
      ],
      "metadata": {
        "colab": {
          "base_uri": "https://localhost:8080/"
        },
        "id": "JOPLsEk-w2V8",
        "outputId": "29517ccb-f18d-4943-9115-019aafd36d5f"
      },
      "execution_count": null,
      "outputs": [
        {
          "output_type": "stream",
          "name": "stdout",
          "text": [
            "[ 0  1  2  3  4  5  6  7  8  9 10 11 12 13 14 15]\n"
          ]
        }
      ]
    },
    {
      "cell_type": "code",
      "source": [
        "#Creating n integers\n",
        "c=np.arange(24).reshape(2,1,12)\n",
        "print(c,type(c))"
      ],
      "metadata": {
        "colab": {
          "base_uri": "https://localhost:8080/"
        },
        "id": "KBtTWQQSxxGV",
        "outputId": "e018c3f0-b550-496b-caf6-9872eda15f19"
      },
      "execution_count": null,
      "outputs": [
        {
          "output_type": "stream",
          "name": "stdout",
          "text": [
            "[[[ 0  1  2  3  4  5  6  7  8  9 10 11]]\n",
            "\n",
            " [[12 13 14 15 16 17 18 19 20 21 22 23]]] <class 'numpy.ndarray'>\n"
          ]
        }
      ]
    },
    {
      "cell_type": "code",
      "source": [
        "h=np.linspace(3,9)\n",
        "print(h)"
      ],
      "metadata": {
        "colab": {
          "base_uri": "https://localhost:8080/"
        },
        "id": "PRXjoLPB1Rfm",
        "outputId": "3d9a5865-28d1-4c3a-9729-ee15abe83d80"
      },
      "execution_count": null,
      "outputs": [
        {
          "output_type": "stream",
          "name": "stdout",
          "text": [
            "[3.         3.12244898 3.24489796 3.36734694 3.48979592 3.6122449\n",
            " 3.73469388 3.85714286 3.97959184 4.10204082 4.2244898  4.34693878\n",
            " 4.46938776 4.59183673 4.71428571 4.83673469 4.95918367 5.08163265\n",
            " 5.20408163 5.32653061 5.44897959 5.57142857 5.69387755 5.81632653\n",
            " 5.93877551 6.06122449 6.18367347 6.30612245 6.42857143 6.55102041\n",
            " 6.67346939 6.79591837 6.91836735 7.04081633 7.16326531 7.28571429\n",
            " 7.40816327 7.53061224 7.65306122 7.7755102  7.89795918 8.02040816\n",
            " 8.14285714 8.26530612 8.3877551  8.51020408 8.63265306 8.75510204\n",
            " 8.87755102 9.        ]\n"
          ]
        }
      ]
    },
    {
      "cell_type": "code",
      "source": [
        "x=list(range(3,9))\n",
        "y=np.array(x).reshape(3,2)\n",
        "print(y)\n"
      ],
      "metadata": {
        "colab": {
          "base_uri": "https://localhost:8080/"
        },
        "id": "ZL8b4YJXzwjn",
        "outputId": "df9d93c8-60c8-467c-dac4-eddbc75fd959"
      },
      "execution_count": null,
      "outputs": [
        {
          "output_type": "stream",
          "name": "stdout",
          "text": [
            "[[3 4]\n",
            " [5 6]\n",
            " [7 8]]\n"
          ]
        }
      ]
    },
    {
      "cell_type": "code",
      "source": [
        "#Logical and Relational operations with n dimensional array\n",
        "print(y)\n",
        "print(y<=6)"
      ],
      "metadata": {
        "colab": {
          "base_uri": "https://localhost:8080/"
        },
        "id": "BUxtiuRR2qwY",
        "outputId": "b4aeea4b-068a-4de6-a52c-eac0401659f6"
      },
      "execution_count": null,
      "outputs": [
        {
          "output_type": "stream",
          "name": "stdout",
          "text": [
            "[[3 4]\n",
            " [5 6]\n",
            " [7 8]]\n",
            "[[ True  True]\n",
            " [ True  True]\n",
            " [False False]]\n"
          ]
        }
      ]
    },
    {
      "cell_type": "code",
      "source": [
        "#Scientific operations on single element in an array\n",
        "print(np.sin(y),end=\"\\n\")\n",
        "print(np.cos(y),end=\"\\n\")\n",
        "print(np.sqrt(y),end=\"\\n\")\n",
        "print(np.log(y),end=\"\\n\")\n",
        "print(np.exp(y),end=\"\\n\")"
      ],
      "metadata": {
        "colab": {
          "base_uri": "https://localhost:8080/"
        },
        "id": "AqHhyzYz27U5",
        "outputId": "e8203a39-ddf2-4818-ef92-91e3db68a5d7"
      },
      "execution_count": null,
      "outputs": [
        {
          "output_type": "stream",
          "name": "stdout",
          "text": [
            "[[ 0.14112001 -0.7568025 ]\n",
            " [-0.95892427 -0.2794155 ]\n",
            " [ 0.6569866   0.98935825]]\n",
            "[[-0.9899925  -0.65364362]\n",
            " [ 0.28366219  0.96017029]\n",
            " [ 0.75390225 -0.14550003]]\n",
            "[[1.73205081 2.        ]\n",
            " [2.23606798 2.44948974]\n",
            " [2.64575131 2.82842712]]\n",
            "[[1.09861229 1.38629436]\n",
            " [1.60943791 1.79175947]\n",
            " [1.94591015 2.07944154]]\n",
            "[[  20.08553692   54.59815003]\n",
            " [ 148.4131591   403.42879349]\n",
            " [1096.63315843 2980.95798704]]\n"
          ]
        }
      ]
    }
  ]
}